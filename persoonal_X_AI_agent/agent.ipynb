{
 "cells": [
  {
   "cell_type": "code",
   "execution_count": 1,
   "id": "472744fe",
   "metadata": {},
   "outputs": [
    {
     "name": "stdout",
     "output_type": "stream",
     "text": [
      "Collecting tweepy (from -r requirements.txt (line 1))\n",
      "  Using cached tweepy-4.16.0-py3-none-any.whl.metadata (3.3 kB)\n",
      "Requirement already satisfied: python-dotenv in c:\\users\\k rahim\\anaconda3\\lib\\site-packages (from -r requirements.txt (line 2)) (0.21.0)\n",
      "Requirement already satisfied: schedule in c:\\users\\k rahim\\appdata\\roaming\\python\\python312\\site-packages (from -r requirements.txt (line 3)) (1.2.2)\n",
      "Collecting oauthlib<4,>=3.2.0 (from tweepy->-r requirements.txt (line 1))\n",
      "  Using cached oauthlib-3.3.1-py3-none-any.whl.metadata (7.9 kB)\n",
      "Requirement already satisfied: requests<3,>=2.27.0 in c:\\users\\k rahim\\anaconda3\\lib\\site-packages (from tweepy->-r requirements.txt (line 1)) (2.32.3)\n",
      "Collecting requests-oauthlib<3,>=1.2.0 (from tweepy->-r requirements.txt (line 1))\n",
      "  Using cached requests_oauthlib-2.0.0-py2.py3-none-any.whl.metadata (11 kB)\n",
      "Requirement already satisfied: charset-normalizer<4,>=2 in c:\\users\\k rahim\\anaconda3\\lib\\site-packages (from requests<3,>=2.27.0->tweepy->-r requirements.txt (line 1)) (3.3.2)\n",
      "Requirement already satisfied: idna<4,>=2.5 in c:\\users\\k rahim\\anaconda3\\lib\\site-packages (from requests<3,>=2.27.0->tweepy->-r requirements.txt (line 1)) (3.7)\n",
      "Requirement already satisfied: urllib3<3,>=1.21.1 in c:\\users\\k rahim\\anaconda3\\lib\\site-packages (from requests<3,>=2.27.0->tweepy->-r requirements.txt (line 1)) (2.2.3)\n",
      "Requirement already satisfied: certifi>=2017.4.17 in c:\\users\\k rahim\\anaconda3\\lib\\site-packages (from requests<3,>=2.27.0->tweepy->-r requirements.txt (line 1)) (2024.8.30)\n",
      "Using cached tweepy-4.16.0-py3-none-any.whl (98 kB)\n",
      "Using cached oauthlib-3.3.1-py3-none-any.whl (160 kB)\n",
      "Using cached requests_oauthlib-2.0.0-py2.py3-none-any.whl (24 kB)\n",
      "Installing collected packages: oauthlib, requests-oauthlib, tweepy\n",
      "Successfully installed oauthlib-3.3.1 requests-oauthlib-2.0.0 tweepy-4.16.0\n",
      "Note: you may need to restart the kernel to use updated packages.\n"
     ]
    }
   ],
   "source": [
    "%pip install -r requirements.txt"
   ]
  }
 ],
 "metadata": {
  "kernelspec": {
   "display_name": "base",
   "language": "python",
   "name": "python3"
  },
  "language_info": {
   "codemirror_mode": {
    "name": "ipython",
    "version": 3
   },
   "file_extension": ".py",
   "mimetype": "text/x-python",
   "name": "python",
   "nbconvert_exporter": "python",
   "pygments_lexer": "ipython3",
   "version": "3.12.7"
  }
 },
 "nbformat": 4,
 "nbformat_minor": 5
}
