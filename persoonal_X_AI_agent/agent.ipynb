{
 "cells": [
  {
   "cell_type": "code",
   "execution_count": 1,
   "id": "472744fe",
   "metadata": {},
   "outputs": [
    {
     "name": "stdout",
     "output_type": "stream",
     "text": [
      "Collecting tweepy (from -r requirements.txt (line 1))\n",
      "  Using cached tweepy-4.16.0-py3-none-any.whl.metadata (3.3 kB)\n",
      "Requirement already satisfied: python-dotenv in c:\\users\\k rahim\\anaconda3\\lib\\site-packages (from -r requirements.txt (line 2)) (0.21.0)\n",
      "Requirement already satisfied: schedule in c:\\users\\k rahim\\appdata\\roaming\\python\\python312\\site-packages (from -r requirements.txt (line 3)) (1.2.2)\n",
      "Collecting oauthlib<4,>=3.2.0 (from tweepy->-r requirements.txt (line 1))\n",
      "  Using cached oauthlib-3.3.1-py3-none-any.whl.metadata (7.9 kB)\n",
      "Requirement already satisfied: requests<3,>=2.27.0 in c:\\users\\k rahim\\anaconda3\\lib\\site-packages (from tweepy->-r requirements.txt (line 1)) (2.32.3)\n",
      "Collecting requests-oauthlib<3,>=1.2.0 (from tweepy->-r requirements.txt (line 1))\n",
      "  Using cached requests_oauthlib-2.0.0-py2.py3-none-any.whl.metadata (11 kB)\n",
      "Requirement already satisfied: charset-normalizer<4,>=2 in c:\\users\\k rahim\\anaconda3\\lib\\site-packages (from requests<3,>=2.27.0->tweepy->-r requirements.txt (line 1)) (3.3.2)\n",
      "Requirement already satisfied: idna<4,>=2.5 in c:\\users\\k rahim\\anaconda3\\lib\\site-packages (from requests<3,>=2.27.0->tweepy->-r requirements.txt (line 1)) (3.7)\n",
      "Requirement already satisfied: urllib3<3,>=1.21.1 in c:\\users\\k rahim\\anaconda3\\lib\\site-packages (from requests<3,>=2.27.0->tweepy->-r requirements.txt (line 1)) (2.2.3)\n",
      "Requirement already satisfied: certifi>=2017.4.17 in c:\\users\\k rahim\\anaconda3\\lib\\site-packages (from requests<3,>=2.27.0->tweepy->-r requirements.txt (line 1)) (2024.8.30)\n",
      "Using cached tweepy-4.16.0-py3-none-any.whl (98 kB)\n",
      "Using cached oauthlib-3.3.1-py3-none-any.whl (160 kB)\n",
      "Using cached requests_oauthlib-2.0.0-py2.py3-none-any.whl (24 kB)\n",
      "Installing collected packages: oauthlib, requests-oauthlib, tweepy\n",
      "Successfully installed oauthlib-3.3.1 requests-oauthlib-2.0.0 tweepy-4.16.0\n",
      "Note: you may need to restart the kernel to use updated packages.\n"
     ]
    }
   ],
   "source": [
    "%pip install -r requirements.txt"
   ]
  },
  {
   "cell_type": "code",
   "execution_count": 1,
   "id": "11e1803c",
   "metadata": {},
   "outputs": [
    {
     "name": "stdout",
     "output_type": "stream",
     "text": [
      "Bot started. Posting every 1 minute.\n",
      "Tweet posted successfully! Tweet ID: 1940281292752363811\n",
      "Tweet posted successfully! Tweet ID: 1940281546184806594\n",
      "Tweet posted successfully! Tweet ID: 1940281799537525052\n",
      "Tweet posted successfully! Tweet ID: 1940282052961558670\n",
      "All tweets have been posted. Stopping the bot.\n",
      "No more scheduled jobs. Exiting.\n"
     ]
    }
   ],
   "source": [
    "import os\n",
    "import tweepy\n",
    "from dotenv import load_dotenv\n",
    "import schedule\n",
    "import time\n",
    "import sys\n",
    "\n",
    "# Load credentials from .env file\n",
    "load_dotenv()\n",
    "API_KEY = os.getenv('API_KEY')\n",
    "API_KEY_SECRET = os.getenv('API_KEY_SECRET')\n",
    "ACCESS_TOKEN = os.getenv('ACCESS_TOKEN')\n",
    "ACCESS_TOKEN_SECRET = os.getenv('ACCESS_TOKEN_SECRET')\n",
    "BEARER_TOKEN = os.getenv('BEARER_TOKEN')\n",
    "\n",
    "# Create Tweepy Client for v2\n",
    "client = tweepy.Client(\n",
    "    bearer_token=BEARER_TOKEN,\n",
    "    consumer_key=API_KEY,\n",
    "    consumer_secret=API_KEY_SECRET,\n",
    "    access_token=ACCESS_TOKEN,\n",
    "    access_token_secret=ACCESS_TOKEN_SECRET\n",
    ")\n",
    "\n",
    "# List of tweets to post\n",
    "tweets = [\n",
    "    \"Hello world! RahimAgentAI\",\n",
    "    \"This is a second tweet from my bot.\",\n",
    "    \"Ignoring the third tweet for now.\",\n",
    "    \"Am just a bot, but I can post tweets! #AI\",\n",
    "]\n",
    "tweet_index = 0\n",
    "\n",
    "def post_tweet(message):\n",
    "    try:\n",
    "        response = client.create_tweet(text=message)\n",
    "        print(f'Tweet posted successfully! Tweet ID: {response.data[\"id\"]}')\n",
    "    except Exception as e:\n",
    "        print(f'Error posting tweet: {e}')\n",
    "\n",
    "def job():\n",
    "    global tweet_index\n",
    "    if tweet_index < len(tweets):\n",
    "        post_tweet(tweets[tweet_index])\n",
    "        tweet_index += 1\n",
    "    else:\n",
    "        print(\"All tweets have been posted. Stopping the bot.\")\n",
    "        schedule.clear()  # Stop future scheduled jobs\n",
    "\n",
    "if __name__ == '__main__':\n",
    "    schedule.every(1).minutes.do(job)\n",
    "    print(\"Bot started. Posting every 1 minute.\")\n",
    "    while True:\n",
    "        schedule.run_pending()\n",
    "        if not schedule.jobs:\n",
    "            print(\"No more scheduled jobs. Exiting.\")\n",
    "            break\n",
    "        time.sleep(1)\n"
   ]
  }
 ],
 "metadata": {
  "kernelspec": {
   "display_name": "base",
   "language": "python",
   "name": "python3"
  },
  "language_info": {
   "codemirror_mode": {
    "name": "ipython",
    "version": 3
   },
   "file_extension": ".py",
   "mimetype": "text/x-python",
   "name": "python",
   "nbconvert_exporter": "python",
   "pygments_lexer": "ipython3",
   "version": "3.12.7"
  }
 },
 "nbformat": 4,
 "nbformat_minor": 5
}
